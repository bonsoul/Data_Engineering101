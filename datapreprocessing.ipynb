{
 "cells": [
  {
   "cell_type": "code",
   "execution_count": 3,
   "id": "c0cec3f3",
   "metadata": {},
   "outputs": [
    {
     "name": "stdout",
     "output_type": "stream",
     "text": [
      "Defaulting to user installation because normal site-packages is not writeable\n",
      "Requirement already satisfied: pandas in c:\\users\\pc\\appdata\\local\\packages\\pythonsoftwarefoundation.python.3.13_qbz5n2kfra8p0\\localcache\\local-packages\\python313\\site-packages (2.3.1)\n",
      "Requirement already satisfied: numpy>=1.26.0 in c:\\users\\pc\\appdata\\local\\packages\\pythonsoftwarefoundation.python.3.13_qbz5n2kfra8p0\\localcache\\local-packages\\python313\\site-packages (from pandas) (2.3.2)\n",
      "Requirement already satisfied: python-dateutil>=2.8.2 in c:\\users\\pc\\appdata\\local\\packages\\pythonsoftwarefoundation.python.3.13_qbz5n2kfra8p0\\localcache\\local-packages\\python313\\site-packages (from pandas) (2.9.0.post0)\n",
      "Requirement already satisfied: pytz>=2020.1 in c:\\users\\pc\\appdata\\local\\packages\\pythonsoftwarefoundation.python.3.13_qbz5n2kfra8p0\\localcache\\local-packages\\python313\\site-packages (from pandas) (2025.2)\n",
      "Requirement already satisfied: tzdata>=2022.7 in c:\\users\\pc\\appdata\\local\\packages\\pythonsoftwarefoundation.python.3.13_qbz5n2kfra8p0\\localcache\\local-packages\\python313\\site-packages (from pandas) (2025.2)\n",
      "Requirement already satisfied: six>=1.5 in c:\\users\\pc\\appdata\\local\\packages\\pythonsoftwarefoundation.python.3.13_qbz5n2kfra8p0\\localcache\\local-packages\\python313\\site-packages (from python-dateutil>=2.8.2->pandas) (1.17.0)\n"
     ]
    }
   ],
   "source": [
    "!pip install pandas"
   ]
  },
  {
   "cell_type": "code",
   "execution_count": 8,
   "id": "ddef6864",
   "metadata": {},
   "outputs": [
    {
     "name": "stderr",
     "output_type": "stream",
     "text": [
      "'head' is not recognized as an internal or external command,\n",
      "operable program or batch file.\n"
     ]
    }
   ],
   "source": [
    "!head -5 data/nyse_all/nyse_data/NYSE_20110103.txt"
   ]
  },
  {
   "cell_type": "code",
   "execution_count": 12,
   "id": "27da53a7",
   "metadata": {},
   "outputs": [],
   "source": [
    "from pathlib import Path\n",
    "\n",
    "file_path = Path(\"data\\nyse_all\\nyse_data\")"
   ]
  },
  {
   "cell_type": "code",
   "execution_count": 14,
   "id": "f2eefaf5",
   "metadata": {},
   "outputs": [
    {
     "name": "stdout",
     "output_type": "stream",
     "text": [
      "21 files found\n",
      "['NYSE_1997.txt.gz', 'NYSE_1998.txt.gz', 'NYSE_1999.txt.gz', 'NYSE_2000.txt.gz', 'NYSE_2001.txt.gz', 'NYSE_2002.txt.gz', 'NYSE_2003.txt.gz', 'NYSE_2004.txt.gz', 'NYSE_2005.txt.gz', 'NYSE_2006.txt.gz']\n"
     ]
    }
   ],
   "source": [
    "import os\n",
    "\n",
    "folder = \"data/nyse_all/nyse_data\"\n",
    "files = os.listdir(folder)\n",
    "\n",
    "print(len(files), \"files found\")\n",
    "print(files[:10])  # show first 10 files\n"
   ]
  },
  {
   "cell_type": "code",
   "execution_count": 18,
   "id": "7d1fb870",
   "metadata": {},
   "outputs": [
    {
     "name": "stdout",
     "output_type": "stream",
     "text": [
      "X\u0000\u0003NYSE_1997.txt\u0000]rH#7\u0010R-*'\u0006Ӏ d)\u00153\u001d>\u0019\u0010R-z\u000eCjڦ}\n",
      "iջ\n",
      "6f;U\u0000q\f+\u0017\u0000m⸸}+^J۞gn\u000e'NM?N}/\u001anmZPAu~E\u001f@w\u0013Ϸ8\u0007p+\u0016yQ\u0017Wn\u000ek\u000f\u000f^S/tUG\\\u0005hn\n",
      "bA\u0001wͪ\u001b*H\u00173b,\u0011ǌ\u0018\u0007_ȼHOg\u0006`&NC xf\u0010塾DnԤ0\u0007pmu\u0015\u0004O]s\u000f^\u001a\u001aK\u0004樂B\u0005'|=ї\u0001q>1\u001f<\u001eê!԰ͪI\u0015\u0004M=ats\u0000G[ٞp\u000b\u0004M=t3\u0000<!T\u0010<%K$Ѽ\u001d-\u000b\u0004M}UJ\u0001ܓY%\u001aw3\u0003qNTAО\u0010s ǫzZ\n",
      "?3\u001a\u0006_\u000f\u0003qrMO<!x\u001b\u001e\fʶ\u0003z;\u000bU\u0010gR\u00038\u0007yM\u00038jtX\u000bĹ9&\u0001M_fUOĻwG#/>E\u000fnu\u0005wSQ<@O\u0015\u0004gA\u0000p&\u001aXA-L!dK$]BK\u0004o+W\u0010<-b\u0005[\"xZk.\u0010\u001fuMaH/-\u001eylO\u000b\u0004s η3h\u001dX xgs_{_A.z\u0015\u0003a\u0006cW<އ9Go\u0004@;퐹zj\u001fzE\n"
     ]
    }
   ],
   "source": [
    "with open(file_path, \"r\", encoding=\"utf-8\", errors=\"ignore\") as f:\n",
    "    for i in range(5):\n",
    "        print(f.readline().strip())\n"
   ]
  },
  {
   "cell_type": "code",
   "execution_count": 19,
   "id": "7704abca",
   "metadata": {},
   "outputs": [],
   "source": [
    "import glob\n",
    "import pandas as pd"
   ]
  },
  {
   "cell_type": "code",
   "execution_count": 20,
   "id": "a0d2fa43",
   "metadata": {},
   "outputs": [
    {
     "data": {
      "text/plain": [
       "9384739"
      ]
     },
     "execution_count": 20,
     "metadata": {},
     "output_type": "execute_result"
    }
   ],
   "source": [
    "files = glob.glob('data/nyse_all/nyse_data/*')\n",
    "rec_count = 0\n",
    "\n",
    "for file in files:\n",
    "    df = pd.read_csv(\n",
    "        file,\n",
    "        names = ['stock_id', 'trans_date', 'open_price', 'low_price','high_price', 'volume']\n",
    "    )\n",
    "    rec_count += df.shape[0]\n",
    "    \n",
    "rec_count"
   ]
  },
  {
   "cell_type": "code",
   "execution_count": 1,
   "id": "77307cc9",
   "metadata": {},
   "outputs": [
    {
     "name": "stdout",
     "output_type": "stream",
     "text": [
      "Name: dask\n",
      "Version: 2025.7.0\n",
      "Summary: Parallel PyData with Task Scheduling\n",
      "Home-page: https://github.com/dask/dask/\n",
      "Author: \n",
      "Author-email: \n",
      "License: BSD-3-Clause\n",
      "Location: d:\\Documents\\Data Engineering\\.venv\\Lib\\site-packages\n",
      "Requires: click, cloudpickle, fsspec, packaging, partd, pyyaml, toolz\n",
      "Required-by: distributed\n",
      "Note: you may need to restart the kernel to use updated packages.\n"
     ]
    }
   ],
   "source": [
    "pip show dask"
   ]
  },
  {
   "cell_type": "code",
   "execution_count": 2,
   "id": "6d95de07",
   "metadata": {},
   "outputs": [
    {
     "name": "stderr",
     "output_type": "stream",
     "text": [
      "d:\\Documents\\Data Engineering\\.venv\\Lib\\site-packages\\dask\\dataframe\\io\\csv.py:508: UserWarning: Warning gzip compression does not support breaking apart files\n",
      "Please ensure that each individual file can fit in memory and\n",
      "use the keyword ``blocksize=None to remove this message``\n",
      "Setting ``blocksize=None``\n",
      "  warn(\n"
     ]
    },
    {
     "data": {
      "text/plain": [
       "9384739"
      ]
     },
     "execution_count": 2,
     "metadata": {},
     "output_type": "execute_result"
    }
   ],
   "source": [
    "# using dask\n",
    "\n",
    "import dask.dataframe as dd\n",
    "df = dd.read_csv(\n",
    "    'data/nyse_all/nyse_data/*',\n",
    "    names=['stock_id', 'trans_date', 'open_price', 'low_price', 'high_price', 'volume']\n",
    ")\n",
    "\n",
    "df.shape[0].compute()"
   ]
  },
  {
   "cell_type": "code",
   "execution_count": 3,
   "id": "6df9de85",
   "metadata": {},
   "outputs": [
    {
     "name": "stdout",
     "output_type": "stream",
     "text": [
      "Name: pyspark\n",
      "Version: 4.0.0\n",
      "Summary: Apache Spark Python API\n",
      "Home-page: https://github.com/apache/spark/tree/master/python\n",
      "Author: Spark Developers\n",
      "Author-email: dev@spark.apache.org\n",
      "License: http://www.apache.org/licenses/LICENSE-2.0\n",
      "Location: d:\\Documents\\Data Engineering\\.venv\\Lib\\site-packages\n",
      "Requires: py4j\n",
      "Required-by: \n",
      "Note: you may need to restart the kernel to use updated packages.\n"
     ]
    }
   ],
   "source": [
    "pip show PySpark"
   ]
  },
  {
   "cell_type": "code",
   "execution_count": null,
   "id": "ea5db210",
   "metadata": {},
   "outputs": [],
   "source": []
  }
 ],
 "metadata": {
  "kernelspec": {
   "display_name": ".venv",
   "language": "python",
   "name": "python3"
  },
  "language_info": {
   "codemirror_mode": {
    "name": "ipython",
    "version": 3
   },
   "file_extension": ".py",
   "mimetype": "text/x-python",
   "name": "python",
   "nbconvert_exporter": "python",
   "pygments_lexer": "ipython3",
   "version": "3.12.3"
  }
 },
 "nbformat": 4,
 "nbformat_minor": 5
}
