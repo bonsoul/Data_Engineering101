{
 "cells": [
  {
   "cell_type": "code",
   "execution_count": 1,
   "id": "f56a4892",
   "metadata": {},
   "outputs": [],
   "source": [
    "import glob\n",
    "import os\n",
    "import json\n",
    "import re\n",
    "import pandas as pd"
   ]
  },
  {
   "cell_type": "code",
   "execution_count": 2,
   "metadata": {},
   "outputs": [],
   "source": [
    "def get_column_names(schemas, ds_name, sorting_key='column_position'):\n",
    "    column_details = schemas[ds_name]\n",
    "    columns = sorted(column_details, key=lambda col: col[sorting_key])\n",
    "    return [col['column_name'] for col in columns]\n"
   ]
  },
  {
   "cell_type": "code",
   "execution_count": 3,
   "metadata": {},
   "outputs": [],
   "source": [
    "def read_csv(file, schemas):\n",
    "    file_path_list = re.split(r'[\\\\/]', file)\n",
    "    ds_name = file_path_list[-2]\n",
    "    file_name = file_path_list[-1]\n",
    "    \n",
    "    columns = get_column_names(schemas, ds_name)\n",
    "    df = pd.read_csv(file, names=columns)\n",
    "    \n",
    "    return df"
   ]
  },
  {
   "cell_type": "code",
   "execution_count": 4,
   "metadata": {},
   "outputs": [],
   "source": [
    "def file_converter(ds_name):\n",
    "    src_base_dir = 'data-engineering-essentials/035 Python Essentials for Data Engineers/05 Project 1 - File Format Converter/data/retail_db'\n",
    "    tgt_base_dir = 'data-engineering-essentials/035 Python Essentials for Data Engineers/05 Project 1 - File Format Converter/data/retail_db_json'\n",
    "    \n",
    "    # Load schema safely\n",
    "    with open(f'{src_base_dir}/schemas.json') as f:\n",
    "        schemas = json.load(f)\n",
    "    \n",
    "    # Get all files matching part-* pattern\n",
    "    files = glob.glob(f'{src_base_dir}/{ds_name}/part-*')\n",
    "    \n",
    "    for file in files:\n",
    "        print(f'Processing {file}')\n",
    "        df = read_csv(file, schemas)\n",
    "        file_name = re.split(r'[\\\\/]', file)[-1]\n",
    "        to_json(df, tgt_base_dir, ds_name, file_name)\n",
    "\n",
    "# You still need to define the to_json() function, e.g.:\n",
    "def to_json(df, base_dir, ds_name, file_name):\n",
    "    os.makedirs(f'{base_dir}/{ds_name}', exist_ok=True)\n",
    "    output_path = f'{base_dir}/{ds_name}/{file_name}.json'\n",
    "    df.to_json(output_path, orient='records', lines=True)"
   ]
  },
  {
   "cell_type": "code",
   "execution_count": 5,
   "id": "5148cf18",
   "metadata": {},
   "outputs": [],
   "source": [
    "def process_file(ds_name=None):\n",
    "    src_base_dir = 'data-engineering-essentials/035 Python Essentials for Data Engineers/05 Project 1 - File Format Converter/data/retail_db'\n",
    "    tgt_base_dir = 'data-engineering-essentials/035 Python Essentials for Data Engineers/05 Project 1 - File Format Converter/data/retail_db_json'\n",
    "    \n",
    "    with open(f'{src_base_dir}/schemas.json') as f:\n",
    "        schemas = json.load(f)\n",
    "    \n",
    "    dataset_list = list(schemas.keys()) if ds_name is None else [ds_name] if isinstance(ds_name, str) else ds_name\n",
    "    \n",
    "    for dataset in dataset_list:\n",
    "        print(f'Processing {dataset}')\n",
    "        file_converter(src_base_dir, tgt_base_dir, dataset)"
   ]
  },
  {
   "cell_type": "code",
   "execution_count": 6,
   "id": "486d2bd0",
   "metadata": {},
   "outputs": [
    {
     "name": "stdout",
     "output_type": "stream",
     "text": [
      "Processing departments\n"
     ]
    },
    {
     "ename": "TypeError",
     "evalue": "file_converter() takes 1 positional argument but 3 were given",
     "output_type": "error",
     "traceback": [
      "\u001b[1;31m---------------------------------------------------------------------------\u001b[0m",
      "\u001b[1;31mTypeError\u001b[0m                                 Traceback (most recent call last)",
      "Cell \u001b[1;32mIn[6], line 1\u001b[0m\n\u001b[1;32m----> 1\u001b[0m \u001b[43mprocess_file\u001b[49m\u001b[43m(\u001b[49m\u001b[43m)\u001b[49m\n",
      "Cell \u001b[1;32mIn[5], line 12\u001b[0m, in \u001b[0;36mprocess_file\u001b[1;34m(ds_name)\u001b[0m\n\u001b[0;32m     10\u001b[0m \u001b[38;5;28;01mfor\u001b[39;00m dataset \u001b[38;5;129;01min\u001b[39;00m dataset_list:\n\u001b[0;32m     11\u001b[0m     \u001b[38;5;28mprint\u001b[39m(\u001b[38;5;124mf\u001b[39m\u001b[38;5;124m'\u001b[39m\u001b[38;5;124mProcessing \u001b[39m\u001b[38;5;132;01m{\u001b[39;00mdataset\u001b[38;5;132;01m}\u001b[39;00m\u001b[38;5;124m'\u001b[39m)\n\u001b[1;32m---> 12\u001b[0m     \u001b[43mfile_converter\u001b[49m\u001b[43m(\u001b[49m\u001b[43msrc_base_dir\u001b[49m\u001b[43m,\u001b[49m\u001b[43m \u001b[49m\u001b[43mtgt_base_dir\u001b[49m\u001b[43m,\u001b[49m\u001b[43m \u001b[49m\u001b[43mdataset\u001b[49m\u001b[43m)\u001b[49m\n",
      "\u001b[1;31mTypeError\u001b[0m: file_converter() takes 1 positional argument but 3 were given"
     ]
    }
   ],
   "source": [
    "process_file()"
   ]
  },
  {
   "cell_type": "code",
   "execution_count": null,
   "metadata": {},
   "outputs": [
    {
     "name": "stdout",
     "output_type": "stream",
     "text": [
      "Processing data-engineering-essentials/035 Python Essentials for Data Engineers/05 Project 1 - File Format Converter/data/retail_db/orders\\part-00000\n"
     ]
    }
   ],
   "source": [
    "ds_name = 'orders'\n",
    "\n",
    "file_converter(ds_name)"
   ]
  },
  {
   "cell_type": "code",
   "execution_count": null,
   "metadata": {},
   "outputs": [],
   "source": [
    "import os\n",
    "import json\n",
    "import glob\n",
    "import re\n",
    "import pandas as pd\n",
    "\n",
    "# ----------------------------\n",
    "# Helper: Get ordered column names from schema\n",
    "# ----------------------------\n",
    "def get_column_names(schemas, ds_name, sorting_key='column_position'):\n",
    "    column_details = schemas[ds_name]\n",
    "    columns = sorted(column_details, key=lambda col: col[sorting_key])\n",
    "    return [col['column_name'] for col in columns]\n",
    "\n",
    "# ----------------------------\n",
    "# Helper: Read CSV with columns from schema\n",
    "# ----------------------------\n",
    "def read_csv(file, schemas):\n",
    "    file_path_list = re.split(r'[\\\\/]', file)\n",
    "    ds_name = file_path_list[-2]\n",
    "    \n",
    "    columns = get_column_names(schemas, ds_name)\n",
    "    df = pd.read_csv(file, names=columns)\n",
    "    \n",
    "    return df\n",
    "\n",
    "# ----------------------------\n",
    "# Helper: Write DataFrame to JSON file\n",
    "# ----------------------------\n",
    "def to_json(df, base_dir, ds_name, file_name):\n",
    "    os.makedirs(f'{base_dir}/{ds_name}', exist_ok=True)\n",
    "    output_path = f'{base_dir}/{ds_name}/{file_name}.json'\n",
    "    df.to_json(output_path, orient='records', lines=True)\n",
    "\n",
    "# ----------------------------\n",
    "# File Converter for one dataset\n",
    "# ----------------------------\n",
    "def file_converter(ds_name):\n",
    "    src_base_dir = 'data-engineering-essentials/035 Python Essentials for Data Engineers/05 Project 1 - File Format Converter/data/retail_db'\n",
    "    tgt_base_dir = 'data-engineering-essentials/035 Python Essentials for Data Engineers/05 Project 1 - File Format Converter/data/retail_db_json'\n",
    "    \n",
    "    with open(f'{src_base_dir}/schemas.json') as f:\n",
    "        schemas = json.load(f)\n",
    "    \n",
    "    files = glob.glob(f'{src_base_dir}/{ds_name}/part-*')\n",
    "    \n",
    "    for file in files:\n",
    "        print(f'Processing {file}')\n",
    "        df = read_csv(file, schemas)\n",
    "        file_name = re.split(r'[\\\\/]', file)[-1]\n",
    "        to_json(df, tgt_base_dir, ds_name, file_name)\n",
    "\n",
    "# ----------------------------\n",
    "# Process one or all datasets\n",
    "# ----------------------------\n",
    "def process_files(ds_names=None):\n",
    "    src = 'data/retail_db'\n",
    "    tgt = 'data/retail_db_json'\n",
    "    with open(f'{src}/schemas.json') as f:\n",
    "        schemas = json.load(f)\n",
    "    ds_names = ds_names or schemas.keys()\n",
    "    for name in ds_names:\n",
    "        print(f'Processing {name}')\n",
    "        file_converter(src, tgt, name)\n"
   ]
  },
  {
   "cell_type": "code",
   "execution_count": null,
   "id": "8ff4a5f2",
   "metadata": {},
   "outputs": [
    {
     "name": "stdout",
     "output_type": "stream",
     "text": [
      "\n",
      "=== Processing Dataset: departments ===\n",
      "Processing data-engineering-essentials/035 Python Essentials for Data Engineers/05 Project 1 - File Format Converter/data/retail_db/departments\\part-00000\n",
      "\n",
      "=== Processing Dataset: categories ===\n",
      "Processing data-engineering-essentials/035 Python Essentials for Data Engineers/05 Project 1 - File Format Converter/data/retail_db/categories\\part-00000\n",
      "\n",
      "=== Processing Dataset: orders ===\n",
      "Processing data-engineering-essentials/035 Python Essentials for Data Engineers/05 Project 1 - File Format Converter/data/retail_db/orders\\part-00000\n",
      "\n",
      "=== Processing Dataset: products ===\n",
      "Processing data-engineering-essentials/035 Python Essentials for Data Engineers/05 Project 1 - File Format Converter/data/retail_db/products\\part-00000\n",
      "\n",
      "=== Processing Dataset: customers ===\n",
      "Processing data-engineering-essentials/035 Python Essentials for Data Engineers/05 Project 1 - File Format Converter/data/retail_db/customers\\part-00000\n",
      "\n",
      "=== Processing Dataset: order_items ===\n",
      "Processing data-engineering-essentials/035 Python Essentials for Data Engineers/05 Project 1 - File Format Converter/data/retail_db/order_items\\part-00000\n"
     ]
    }
   ],
   "source": [
    "process_file()"
   ]
  },
  {
   "cell_type": "code",
   "execution_count": null,
   "id": "d75139d2",
   "metadata": {},
   "outputs": [],
   "source": [
    "schemas = json.load(open('data-engineering-essentials/035 Python Essentials for Data Engineers/apps/file-format-converter/data/retail_db/schemas.json'))"
   ]
  },
  {
   "cell_type": "code",
   "execution_count": null,
   "id": "94f48fc8",
   "metadata": {},
   "outputs": [
    {
     "data": {
      "text/plain": [
       "dict_keys(['departments', 'categories', 'orders', 'products', 'customers', 'order_items'])"
      ]
     },
     "execution_count": 29,
     "metadata": {},
     "output_type": "execute_result"
    }
   ],
   "source": [
    "schemas.keys()"
   ]
  }
 ],
 "metadata": {
  "kernelspec": {
   "display_name": "Python 3",
   "language": "python",
   "name": "python3"
  },
  "language_info": {
   "codemirror_mode": {
    "name": "ipython",
    "version": 3
   },
   "file_extension": ".py",
   "mimetype": "text/x-python",
   "name": "python",
   "nbconvert_exporter": "python",
   "pygments_lexer": "ipython3",
   "version": "3.12.3"
  }
 },
 "nbformat": 4,
 "nbformat_minor": 5
}
